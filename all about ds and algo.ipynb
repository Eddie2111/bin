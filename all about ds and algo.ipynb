{
 "metadata": {
  "language_info": {
   "codemirror_mode": {
    "name": "ipython",
    "version": 3
   },
   "file_extension": ".py",
   "mimetype": "text/x-python",
   "name": "python",
   "nbconvert_exporter": "python",
   "pygments_lexer": "ipython3",
   "version": "3.9.5"
  },
  "orig_nbformat": 2,
  "kernelspec": {
   "name": "python3",
   "display_name": "Python 3.9.5 64-bit"
  },
  "interpreter": {
   "hash": "63fd5069d213b44bf678585dea6b12cceca9941eaf7f819626cde1f2670de90d"
  }
 },
 "nbformat": 4,
 "nbformat_minor": 2,
 "cells": [
  {
   "cell_type": "code",
   "execution_count": 1,
   "metadata": {},
   "outputs": [],
   "source": [
    "#to put every character in a list\n",
    "\n",
    "lst = [int(i) for i in input()]"
   ]
  },
  {
   "cell_type": "code",
   "execution_count": 2,
   "metadata": {},
   "outputs": [],
   "source": [
    "#Linear and Circular Array\n",
    "\n",
    "LINEAR_ARRAY = [10,20,30,40,50,0,0,0] ##length=8-3\n",
    "Circular_array = [0,0,10,20,30,40,50,0] ##length=8-3\n"
   ]
  },
  {
   "cell_type": "code",
   "execution_count": 3,
   "metadata": {},
   "outputs": [],
   "source": [
    "#Singly Linked List\n",
    "\n",
    "class node:\n",
    "    def __init__(self,data,ref):\n",
    "        self.data = data\n",
    "        self.ref = ref\n",
    "        "
   ]
  },
  {
   "cell_type": "code",
   "execution_count": 4,
   "metadata": {},
   "outputs": [],
   "source": [
    "#Doubly Linked List\n",
    "\n",
    "class node:\n",
    "    def __init__(self,data,nxt,prev):\n",
    "        self.data = data\n",
    "        self.nxt = nxt\n",
    "        self.ref = ref\n",
    "        \n",
    "class DList:\n",
    "    def __init__(self):\n",
    "        self.head = None\n",
    "        self.datas = []\n",
    "    def append(self,data):\n",
    "        if self.head == None:\n",
    "            nnode = dnode(data)\n",
    "            nnode.prev = None\n",
    "            self.head = nnode\n",
    "        else:\n",
    "            nnode = dnode(data)\n",
    "            current = self.head\n",
    "            while current.ref:\n",
    "                current = current.ref\n",
    "            current.ref = nnode\n",
    "            nnode.prev = current\n",
    "            nnode.ref = None\n",
    "    def prepend(self,data):\n",
    "        #Supposed to add elements in the top#\n",
    "        pass\n",
    "    def print_list(self):\n",
    "        current = self.head\n",
    "        while current:\n",
    "            x = current.data\n",
    "            self.datas.append(x)\n",
    "            current = current.ref\n",
    "        return self.datas\n",
    "        \n",
    "def list_processing(a,dllist):\n",
    "    for i in range (len(a)):\n",
    "        dllist.append(a[i])"
   ]
  },
  {
   "cell_type": "code",
   "execution_count": 1,
   "metadata": {},
   "outputs": [],
   "source": [
    "#Stack\n",
    "\n",
    "class stack:\n",
    "    stack = []\n",
    "    def __init__ (self,data = 'Default'):\n",
    "        self.data = data\n",
    "    def push(self,data):\n",
    "        self.data = data\n",
    "        self.stack.append(self.data)\n",
    "    def pop(self):\n",
    "        self.stack.pop(self.stack[len(self.stack)-1])\n",
    "    def peek(self):\n",
    "        return self.stack[len(self.stack)-1]"
   ]
  },
  {
   "cell_type": "code",
   "execution_count": 5,
   "metadata": {},
   "outputs": [],
   "source": [
    "#bubble sort\n",
    "\n",
    "def bubble_sort(a):\n",
    "    isSwap = False\n",
    "    for i in range (4):\n",
    "    \ttry:\n",
    "    \t\tif a[i]>a[i+1]:\n",
    "    \t\t\ttemp = a[i]\n",
    "    \t\t\ta[i]=a[i+1]\n",
    "    \t\t\ta[i+1]=temp\n",
    "    \t\t\tbubble_sort(a)\n",
    "    \texcept:\n",
    "    \t\tNone\n",
    "    print(a)\n",
    "\n",
    "#bubble_sort(a)\n",
    "\n",
    "def bubble_sorting(a,n):  ##IMPROVED\n",
    "    for i in range(n-1):\n",
    "        try:\n",
    "            if a[i]>a[i+1]:\n",
    "                temp = a[i]\n",
    "                a[i] = a[i+1]\n",
    "                a[i+1] = temp\n",
    "            if n-1>1:\n",
    "                bubble_sorting(a,n-1)\n",
    "        except:\n",
    "            None\n"
   ]
  },
  {
   "cell_type": "code",
   "execution_count": 6,
   "metadata": {},
   "outputs": [],
   "source": [
    "def selectionSort(a): #not recursive\n",
    "    indexingLength = range(0,len(a)-1)\n",
    "    for i in indexingLength:\n",
    "        min_value = i\n",
    "        \n",
    "        for j in range(i+1,len(a)):\n",
    "            if a[j]<a[min_value]:\n",
    "                min_value=j\n",
    "        if min_value != i:\n",
    "            a[min_value],a[i]=a[i],a[min_value]\n",
    "            \n",
    "    return a\n",
    "\n",
    "def insertion_sort(array):\n",
    "    \n",
    "    # We start from 1 since the first element is trivially sorted\n",
    "    for index in range(1, len(array)):\n",
    "        currentValue = array[index]\n",
    "        currentPosition = index\n",
    "\n",
    "        # As long as we haven't reached the beginning and there is an element\n",
    "        # in our sorted array larger than the one we're trying to insert - move\n",
    "        # that element to the right\n",
    "        while currentPosition > 0 and array[currentPosition - 1] > currentValue:\n",
    "            array[currentPosition] = array[currentPosition -1]\n",
    "            currentPosition = currentPosition - 1\n",
    "\n",
    "\n",
    "        # We have either reached the beginning of the array or we have found\n",
    "        # an element of the sorted array that is smaller than the element\n",
    "        # we're trying to insert at index currentPosition - 1.\n",
    "        # Either way - we insert the element at currentPosition\n",
    "        array[currentPosition] = currentValue\n",
    "        \n",
    "#print(selectionSort(list1))\n"
   ]
  },
  {
   "cell_type": "code",
   "execution_count": 4,
   "metadata": {},
   "outputs": [],
   "source": [
    "def binarySearch(a,data,l,h):\n",
    "    if l>h:\n",
    "        return 0\n",
    "    else:\n",
    "        mid = (l + h) // 2\n",
    "        if data == a[mid]:\n",
    "            return \"Present\"\n",
    "        elif data<a[mid]:\n",
    "            return binarySearch(a,data,l,mid-1)\n",
    "        else:\n",
    "            return binarySearch(a,data,mid+1,h)"
   ]
  },
  {
   "cell_type": "code",
   "execution_count": 7,
   "metadata": {},
   "outputs": [
    {
     "output_type": "stream",
     "name": "stdout",
     "text": [
      "13\n"
     ]
    }
   ],
   "source": [
    "def recus1(n):  #for memoization using lists\n",
    "    if n==0:\n",
    "        return 0\n",
    "    if n==1 or n==2:\n",
    "        return 1\n",
    "    else:\n",
    "        return recus1(n-1)+recus1(n-2)\n",
    "print(recus1(7))"
   ]
  },
  {
   "cell_type": "code",
   "execution_count": 8,
   "metadata": {},
   "outputs": [
    {
     "output_type": "stream",
     "name": "stdout",
     "text": [
      "\n 20\n"
     ]
    }
   ],
   "source": [
    "def grid_walk(m,n):\n",
    "  if m<0 or n<0:\n",
    "    return 0\n",
    "  if m==1 or n==1:\n",
    "      return 1 \n",
    "  else: \n",
    "      return grid_walk(m,n-1)+grid_walk(m-1,n)\n",
    "\n",
    "a,b=4,4\n",
    "print(\"\\n\",grid_walk(a,b))\n",
    "list1 = [4,6,1,3,9]\n",
    "\n",
    "\n",
    "def fibo(n):\n",
    "    n = int(n)\n",
    "    if n==0:\n",
    "        return 0\n",
    "    if n==1:\n",
    "        return 1 \n",
    "    else:\n",
    "        return (fibo(n-1)+fibo(n-2))\n",
    "    \n",
    "for i in range(0,8):\n",
    "    print(fibo(i),end=\" \")"
   ]
  },
  {
   "cell_type": "code",
   "execution_count": 10,
   "metadata": {},
   "outputs": [
    {
     "output_type": "stream",
     "name": "stdout",
     "text": [
      "4950\n"
     ]
    }
   ],
   "source": [
    "def fork(i,limit,g):\n",
    "    if i<limit:\n",
    "        g+=i\n",
    "        return fork(i+1,limit,g)\n",
    "    else:\n",
    "        print(g)\n",
    "fork(1,100,0)"
   ]
  },
  {
   "cell_type": "code",
   "execution_count": null,
   "metadata": {},
   "outputs": [],
   "source": []
  }
 ]
}